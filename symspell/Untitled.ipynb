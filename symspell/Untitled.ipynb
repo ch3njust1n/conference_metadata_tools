{
 "cells": [
  {
   "cell_type": "code",
   "execution_count": 1,
   "id": "b8e0b9ca",
   "metadata": {},
   "outputs": [],
   "source": [
    "import pkg_resources\n",
    "from time import perf_counter\n",
    "from symspellpy import SymSpell, Verbosity"
   ]
  },
  {
   "cell_type": "code",
   "execution_count": 2,
   "id": "3cf6a9cd",
   "metadata": {},
   "outputs": [],
   "source": [
    "incorrect = \"whereis th elove hehad dated forImuch of thepast who couqdn'tread in sixthgrade and ins pired him\""
   ]
  },
  {
   "cell_type": "code",
   "execution_count": 3,
   "id": "19529842",
   "metadata": {},
   "outputs": [
    {
     "name": "stdout",
     "output_type": "stream",
     "text": [
      "whereas the love head dated for much of the past who couldn't read in sixth grade and inspired him, 9, 0\n",
      "0.012470291927456856 seconds\n"
     ]
    }
   ],
   "source": [
    "sym_spell = SymSpell(max_dictionary_edit_distance=2, prefix_length=7)\n",
    "dictionary_path = pkg_resources.resource_filename(\n",
    "    \"symspellpy\", \"frequency_dictionary_en_82_765.txt\"\n",
    ")\n",
    "# term_index is the column of the term and count_index is the\n",
    "# column of the term frequency\n",
    "sym_spell.load_dictionary(dictionary_path, term_index=0, count_index=1)\n",
    "\n",
    "start = perf_counter()\n",
    "\n",
    "# max edit distance per lookup\n",
    "# (max_edit_distance_lookup <= max_dictionary_edit_distance)\n",
    "suggestions = sym_spell.lookup_compound(incorrect, max_edit_distance=2, transfer_casing=True)\n",
    "\n",
    "# display suggestion term, edit distance, and term frequency\n",
    "for suggestion in suggestions:\n",
    "    print(suggestion)\n",
    "    \n",
    "print(f'{perf_counter() - start} seconds')"
   ]
  },
  {
   "cell_type": "code",
   "execution_count": 4,
   "id": "2c05c50c",
   "metadata": {},
   "outputs": [
    {
     "name": "stdout",
     "output_type": "stream",
     "text": [
      "{\n",
      "  \"choices\": [\n",
      "    {\n",
      "      \"finish_reason\": \"stop\",\n",
      "      \"index\": 0,\n",
      "      \"logprobs\": null,\n",
      "      \"text\": \"\\n\\nWhere is the love he had dated for much of the past who couldn't read in sixth grade and inspired him?\"\n",
      "    }\n",
      "  ],\n",
      "  \"created\": 1664551217,\n",
      "  \"id\": \"cmpl-5wC6DxeVqaaX2asocPcGPh4SJhrMJ\",\n",
      "  \"model\": \"text-davinci-002\",\n",
      "  \"object\": \"text_completion\",\n",
      "  \"usage\": {\n",
      "    \"completion_tokens\": 25,\n",
      "    \"prompt_tokens\": 34,\n",
      "    \"total_tokens\": 59\n",
      "  }\n",
      "}\n",
      "2.2705786670558155 seconds\n"
     ]
    }
   ],
   "source": [
    "import os\n",
    "import openai\n",
    "\n",
    "start = perf_counter()\n",
    "openai.api_key = os.getenv(\"OPENAI_API_KEY\")\n",
    "\n",
    "response = openai.Completion.create(\n",
    "  model=\"text-davinci-002\",\n",
    "  prompt=f\"Correct the spelling: \\\"{incorrect}\\\"\",\n",
    "  temperature=0.7,\n",
    "  max_tokens=3938,\n",
    "  top_p=1,\n",
    "  frequency_penalty=0,\n",
    "  presence_penalty=0\n",
    ")\n",
    "\n",
    "print(response)\n",
    "print(f'{perf_counter() - start} seconds')"
   ]
  }
 ],
 "metadata": {
  "kernelspec": {
   "display_name": "Python 3 (ipykernel)",
   "language": "python",
   "name": "python3"
  },
  "language_info": {
   "codemirror_mode": {
    "name": "ipython",
    "version": 3
   },
   "file_extension": ".py",
   "mimetype": "text/x-python",
   "name": "python",
   "nbconvert_exporter": "python",
   "pygments_lexer": "ipython3",
   "version": "3.11.0rc2"
  }
 },
 "nbformat": 4,
 "nbformat_minor": 5
}
